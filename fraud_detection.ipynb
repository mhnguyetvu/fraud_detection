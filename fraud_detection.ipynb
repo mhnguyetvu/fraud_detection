{
 "cells": [
  {
   "cell_type": "code",
   "execution_count": 1,
   "id": "0c903967",
   "metadata": {},
   "outputs": [],
   "source": [
    "import pandas as pd\n",
    "import numpy as np\n",
    "import matplotlib.pyplot as plt\n",
    "\n",
    "from sklearn.tree import DecisionTreeClassifier, plot_tree\n",
    "from imblearn.over_sampling import RandomOverSampler\n",
    "from imblearn.under_sampling import RandomUnderSampler\n",
    "from imblearn.pipeline import make_pipeline as imb_make_pipeline\n",
    "\n",
    "from sklearn.linear_model import LogisticRegression\n",
    "from xgboost import XGBClassifier\n",
    "import xgboost as xgb\n",
    "from sklearn import metrics\n",
    "from sklearn.metrics import f1_score\n",
    "from sklearn.model_selection import GridSearchCV\n",
    "from sklearn.model_selection import StratifiedKFold\n",
    "from sklearn.model_selection import KFold\n",
    "from sklearn.model_selection import cross_validate\n",
    "# from sklearn.ensemble import RandomForestClassifier,BaggingClassifier, AdaBoostClassifier, GradientBoostingClassifier\n",
    "from sklearn.model_selection import train_test_split"
   ]
  },
  {
   "cell_type": "code",
   "execution_count": 2,
   "id": "7ba5eb96",
   "metadata": {},
   "outputs": [],
   "source": [
    "## thêm biến đường dẫn \n",
    "## sửa lại tên dataframe\n",
    "data_path = r\"D:\\Users\\CARD\\Data\\summary_ft&nonft.pkl\"\n",
    "df = pd.read_pickle(data_path)"
   ]
  },
  {
   "cell_type": "code",
   "execution_count": null,
   "id": "831a3273",
   "metadata": {},
   "outputs": [],
   "source": [
    "df.drop(columns ='CARD_ID',inplace=True)"
   ]
  },
  {
   "cell_type": "code",
   "execution_count": 18,
   "id": "8599e2f9",
   "metadata": {},
   "outputs": [],
   "source": [
    "df = df.fillna(0).replace([np.inf, -np.inf], 0) "
   ]
  },
  {
   "cell_type": "code",
   "execution_count": null,
   "id": "583a2497",
   "metadata": {},
   "outputs": [],
   "source": [
    "# df.select_dtypes('object').columns"
   ]
  },
  {
   "cell_type": "code",
   "execution_count": 19,
   "id": "74b10cd6",
   "metadata": {},
   "outputs": [],
   "source": [
    "X = df.loc[:,df.columns != \"IS_FRAUD\"]\n",
    "y =  df[\"IS_FRAUD\"]\n",
    "X_train, X_val, Y_train, Y_val = train_test_split(X, y, stratify=df[\"IS_FRAUD\"], test_size=0.25)"
   ]
  },
  {
   "cell_type": "code",
   "execution_count": 4,
   "id": "720932e2",
   "metadata": {},
   "outputs": [],
   "source": [
    "# def precision_recall(tn, fp, fn, tp):\n",
    "#     precision = tp/(tp+fp)\n",
    "#     recall = tp/(tp+fn)\n",
    "#     f1 = 2*(precision*recall)/(precision+recall)\n",
    "#     return precision, recall, f1\n",
    "\n",
    "# def f1(Y_val, predictions):\n",
    "#     tn, fp, fn, tp = metrics.confusion_matrix(Y_val, predictions).ravel()\n",
    "#     precision, recall, f1 = precision_recall(tn, fp, fn, tp)\n",
    "#     f1 = 2*(precision*recall)/(precision+recall)\n",
    "#     return f1\n",
    "\n",
    "def evaluation(model, X_val, Y_val, threshold):\n",
    "    predictions = (model.predict_proba(X_val)[:,1] >=threshold).astype(int)\n",
    "    precision = precision(predictions, Y_val)\n",
    "    recall = recall(predictions, Y_val)\n",
    "    f1 = f1_score(predictions, Y_val)\n",
    "    return precision, recall, f1\n",
    "\n",
    "def cross_validation(model, _X, _y, _cv = 5):\n",
    "    _scoring = [\"precision\",\"recall\",\"f1\"]\n",
    "    results = cross_validate(estimator = model,\n",
    "                             X =_X,\n",
    "                             y = _y,\n",
    "                             cv =_cv,\n",
    "                             scoring = _scoring,\n",
    "                             return_train_score = True)\n",
    "    return {\"Training Precision\": results[\"train_precision\"],\n",
    "            \"Mean Training Precision\": results[\"train_precision\"].mean(),\n",
    "            \"Training Recall\": results[\"train_precision\"],\n",
    "            \"Mean Training Recall\": results[\"train_recall\"].mean(),\n",
    "            \"Training F1 score\": results[\"train_precision\"],\n",
    "            \"Mean Training F1 score\": results[\"train_f1\"].mean(),\n",
    "            \"Validation Precision\": results[\"test_precision\"],\n",
    "            \"Mean Validation Precision\": results[\"test_precision\"].mean(),\n",
    "            \"Validation Recall\": results[\"test_recall\"],\n",
    "            \"Mean Validation Recall\": results[\"test_recall\"].mean(),\n",
    "            \"Validation F1 score\": results[\"test_f1\"],\n",
    "            \"Mean Validation F1 score\": results[\"test_f1\"].mean()}\n",
    "\n",
    "def plot(thresholds, scores, precisions, recalls):\n",
    "    plt.plot(thresholds, scores, '-o', color = 'blue', label='f1 score', linewidth = 2)\n",
    "    plt.plot(thresholds, precisions, '-o', color = 'green', label='precisions', linewidth = 2)\n",
    "    plt.plot(thresholds, recalls, '-o', color = 'black', label='recalls', linewidth = 2)\n",
    "    plt.xlabel('threshold', size = 2)\n",
    "    plt.legend()\n",
    "#     plt.savefig(\"threshold\")\n",
    "    plt.show()\n",
    "\n",
    "def threshold(model, X_val, Y_val):\n",
    "    scores = []\n",
    "    thresholds = []\n",
    "    precisions = []\n",
    "    recalls = []\n",
    "    best_score = 0\n",
    "    best_threshold = 0\n",
    "\n",
    "    for threshold in np.arange(0.0, 1.05, 0.01):\n",
    "        predictions = (model.predict_proba(X_val)[:,1] >=threshold).astype(int)\n",
    "        m = f1_score(Y_val, predictions, average = 'macro')\n",
    "        scores.append(m)\n",
    "\n",
    "        tn, fp, fn, tp = metrics.confusion_matrix(Y_val, predictions).ravel()\n",
    "        precision = tp/(tp+fp)\n",
    "        recall = tp/(tp+fn)\n",
    "        precisions.append(precision)\n",
    "        recalls.append(recall)\n",
    "        thresholds.append(threshold)\n",
    "        if m>best_score:\n",
    "            best_score = m\n",
    "            best_threshold = threshold\n",
    "    plot(thresholds, scores, precisions, recalls)\n",
    "    return thresholds,scores, precisions, recalls, best_threshold"
   ]
  },
  {
   "attachments": {},
   "cell_type": "markdown",
   "id": "83f03b5b",
   "metadata": {},
   "source": [
    "# FIT MODEL"
   ]
  },
  {
   "cell_type": "code",
   "execution_count": 20,
   "id": "01fa197a",
   "metadata": {},
   "outputs": [
    {
     "data": {
      "text/html": [
       "<style>#sk-container-id-1 {color: black;background-color: white;}#sk-container-id-1 pre{padding: 0;}#sk-container-id-1 div.sk-toggleable {background-color: white;}#sk-container-id-1 label.sk-toggleable__label {cursor: pointer;display: block;width: 100%;margin-bottom: 0;padding: 0.3em;box-sizing: border-box;text-align: center;}#sk-container-id-1 label.sk-toggleable__label-arrow:before {content: \"▸\";float: left;margin-right: 0.25em;color: #696969;}#sk-container-id-1 label.sk-toggleable__label-arrow:hover:before {color: black;}#sk-container-id-1 div.sk-estimator:hover label.sk-toggleable__label-arrow:before {color: black;}#sk-container-id-1 div.sk-toggleable__content {max-height: 0;max-width: 0;overflow: hidden;text-align: left;background-color: #f0f8ff;}#sk-container-id-1 div.sk-toggleable__content pre {margin: 0.2em;color: black;border-radius: 0.25em;background-color: #f0f8ff;}#sk-container-id-1 input.sk-toggleable__control:checked~div.sk-toggleable__content {max-height: 200px;max-width: 100%;overflow: auto;}#sk-container-id-1 input.sk-toggleable__control:checked~label.sk-toggleable__label-arrow:before {content: \"▾\";}#sk-container-id-1 div.sk-estimator input.sk-toggleable__control:checked~label.sk-toggleable__label {background-color: #d4ebff;}#sk-container-id-1 div.sk-label input.sk-toggleable__control:checked~label.sk-toggleable__label {background-color: #d4ebff;}#sk-container-id-1 input.sk-hidden--visually {border: 0;clip: rect(1px 1px 1px 1px);clip: rect(1px, 1px, 1px, 1px);height: 1px;margin: -1px;overflow: hidden;padding: 0;position: absolute;width: 1px;}#sk-container-id-1 div.sk-estimator {font-family: monospace;background-color: #f0f8ff;border: 1px dotted black;border-radius: 0.25em;box-sizing: border-box;margin-bottom: 0.5em;}#sk-container-id-1 div.sk-estimator:hover {background-color: #d4ebff;}#sk-container-id-1 div.sk-parallel-item::after {content: \"\";width: 100%;border-bottom: 1px solid gray;flex-grow: 1;}#sk-container-id-1 div.sk-label:hover label.sk-toggleable__label {background-color: #d4ebff;}#sk-container-id-1 div.sk-serial::before {content: \"\";position: absolute;border-left: 1px solid gray;box-sizing: border-box;top: 0;bottom: 0;left: 50%;z-index: 0;}#sk-container-id-1 div.sk-serial {display: flex;flex-direction: column;align-items: center;background-color: white;padding-right: 0.2em;padding-left: 0.2em;position: relative;}#sk-container-id-1 div.sk-item {position: relative;z-index: 1;}#sk-container-id-1 div.sk-parallel {display: flex;align-items: stretch;justify-content: center;background-color: white;position: relative;}#sk-container-id-1 div.sk-item::before, #sk-container-id-1 div.sk-parallel-item::before {content: \"\";position: absolute;border-left: 1px solid gray;box-sizing: border-box;top: 0;bottom: 0;left: 50%;z-index: -1;}#sk-container-id-1 div.sk-parallel-item {display: flex;flex-direction: column;z-index: 1;position: relative;background-color: white;}#sk-container-id-1 div.sk-parallel-item:first-child::after {align-self: flex-end;width: 50%;}#sk-container-id-1 div.sk-parallel-item:last-child::after {align-self: flex-start;width: 50%;}#sk-container-id-1 div.sk-parallel-item:only-child::after {width: 0;}#sk-container-id-1 div.sk-dashed-wrapped {border: 1px dashed gray;margin: 0 0.4em 0.5em 0.4em;box-sizing: border-box;padding-bottom: 0.4em;background-color: white;}#sk-container-id-1 div.sk-label label {font-family: monospace;font-weight: bold;display: inline-block;line-height: 1.2em;}#sk-container-id-1 div.sk-label-container {text-align: center;}#sk-container-id-1 div.sk-container {/* jupyter's `normalize.less` sets `[hidden] { display: none; }` but bootstrap.min.css set `[hidden] { display: none !important; }` so we also need the `!important` here to be able to override the default hidden behavior on the sphinx rendered scikit-learn.org. See: https://github.com/scikit-learn/scikit-learn/issues/21755 */display: inline-block !important;position: relative;}#sk-container-id-1 div.sk-text-repr-fallback {display: none;}</style><div id=\"sk-container-id-1\" class=\"sk-top-container\"><div class=\"sk-text-repr-fallback\"><pre>XGBClassifier(base_score=None, booster=None, callbacks=None,\n",
       "              colsample_bylevel=None, colsample_bynode=None,\n",
       "              colsample_bytree=None, early_stopping_rounds=None,\n",
       "              enable_categorical=False, eval_metric=None, feature_types=None,\n",
       "              gamma=None, gpu_id=None, grow_policy=None, importance_type=None,\n",
       "              interaction_constraints=None, learning_rate=None, max_bin=None,\n",
       "              max_cat_threshold=None, max_cat_to_onehot=None,\n",
       "              max_delta_step=None, max_depth=None, max_leaves=None,\n",
       "              min_child_weight=None, missing=nan, monotone_constraints=None,\n",
       "              n_estimators=100, n_jobs=None, num_parallel_tree=None,\n",
       "              predictor=None, random_state=None, ...)</pre><b>In a Jupyter environment, please rerun this cell to show the HTML representation or trust the notebook. <br />On GitHub, the HTML representation is unable to render, please try loading this page with nbviewer.org.</b></div><div class=\"sk-container\" hidden><div class=\"sk-item\"><div class=\"sk-estimator sk-toggleable\"><input class=\"sk-toggleable__control sk-hidden--visually\" id=\"sk-estimator-id-1\" type=\"checkbox\" checked><label for=\"sk-estimator-id-1\" class=\"sk-toggleable__label sk-toggleable__label-arrow\">XGBClassifier</label><div class=\"sk-toggleable__content\"><pre>XGBClassifier(base_score=None, booster=None, callbacks=None,\n",
       "              colsample_bylevel=None, colsample_bynode=None,\n",
       "              colsample_bytree=None, early_stopping_rounds=None,\n",
       "              enable_categorical=False, eval_metric=None, feature_types=None,\n",
       "              gamma=None, gpu_id=None, grow_policy=None, importance_type=None,\n",
       "              interaction_constraints=None, learning_rate=None, max_bin=None,\n",
       "              max_cat_threshold=None, max_cat_to_onehot=None,\n",
       "              max_delta_step=None, max_depth=None, max_leaves=None,\n",
       "              min_child_weight=None, missing=nan, monotone_constraints=None,\n",
       "              n_estimators=100, n_jobs=None, num_parallel_tree=None,\n",
       "              predictor=None, random_state=None, ...)</pre></div></div></div></div></div>"
      ],
      "text/plain": [
       "XGBClassifier(base_score=None, booster=None, callbacks=None,\n",
       "              colsample_bylevel=None, colsample_bynode=None,\n",
       "              colsample_bytree=None, early_stopping_rounds=None,\n",
       "              enable_categorical=False, eval_metric=None, feature_types=None,\n",
       "              gamma=None, gpu_id=None, grow_policy=None, importance_type=None,\n",
       "              interaction_constraints=None, learning_rate=None, max_bin=None,\n",
       "              max_cat_threshold=None, max_cat_to_onehot=None,\n",
       "              max_delta_step=None, max_depth=None, max_leaves=None,\n",
       "              min_child_weight=None, missing=nan, monotone_constraints=None,\n",
       "              n_estimators=100, n_jobs=None, num_parallel_tree=None,\n",
       "              predictor=None, random_state=None, ...)"
      ]
     },
     "execution_count": 20,
     "metadata": {},
     "output_type": "execute_result"
    }
   ],
   "source": [
    "base_model = xgb.XGBClassifier()\n",
    "base_model.fit(X_train,Y_train, eval_set=[(X_val,Y_val)], verbose = 0)"
   ]
  },
  {
   "cell_type": "code",
   "execution_count": null,
   "id": "2b3b41c2",
   "metadata": {},
   "outputs": [],
   "source": [
    "####### Model Calibration\n",
    "# prob = model.predict_proba(X_val)[:,1]\n",
    "# bin_edges = np.linspace(0,1, num = 10)\n",
    "# ## Bin and counts\n",
    "# histogram,_ = np.histogram(prob, bins = bin_edges)\n",
    "# bin_counts_0,_ = np.histogram(prob[Y_val==0], bins=bin_edges)\n",
    "# bin_counts_1,_ = np.histogram(prob[Y_val==1], bins=bin_edges)\n",
    "# ## print the frequency each bins\n",
    "# for i in range(len(bin_edges)-1):\n",
    "#     print(f\"Bin {i}:{bin_counts_0[i]} label 0 samples,{bin_counts_1[i]} label 1 samples\")"
   ]
  },
  {
   "cell_type": "code",
   "execution_count": null,
   "id": "6afa49a5",
   "metadata": {},
   "outputs": [],
   "source": [
    "# import matplotlib.ticker as ticker\n",
    "# # Add labels and a legend \n",
    "# fig, ax = plt.subplots(figsize = (18,12))\n",
    "# #Create a bar chart of the frequency of label 0 and label 1 samples in each bin\n",
    "# total_counts = [sum(x) for x in  zip(bin_counts_0, bin_counts_1)] \n",
    "# bin_percentages_0 = [count / total_counts[i] * 100 for i, count in enumerate(bin_counts_0)]\n",
    "# bin_percentages_1 = [count / total_counts[i] * 100 for i, count in enumerate(bin_counts_1)]\n",
    "# ax.bar(range(len(bin_edges) - 1), bin_percentages_0, color='blue', alpha=0.5, label='Label 0') \n",
    "# ax.bar(range(len(bin_edges) - 1), bin_percentages_1, color='green', alpha=0.5, label='Label 1', bottom=bin_percentages_0)\n",
    "# # Add labels and a legend ax.set_xlabel('Bin')\n",
    "# ax.set_ylabel('Frequency (%)') \n",
    "# ax.set_xticks(range(len(bin_edges) - 1))\n",
    "# ax.set_xticklabels([f'{bin_edges[i]:.2f}-{bin_edges[i+1]:.2f}'for i in range(len(bin_edges) - 1)])\n",
    "# ax.legend() \n",
    "# # Format y-axis as percentages \n",
    "# ax.yaxis.set_major_formatter(ticker.FuncFormatter(lambda y, _: '{:.0%}'.format(y/100)))\n",
    "# # Show the plot \n",
    "# plt.show() "
   ]
  },
  {
   "cell_type": "code",
   "execution_count": null,
   "id": "c6b02e2a",
   "metadata": {},
   "outputs": [],
   "source": [
    "# non_fraud = bin_counts_0.tolist()\n",
    "# fraud = bin_counts_1.tolist()\n",
    "# dat = pd.DataFrame({'non_fraud': non_fraud, 'fraud': fraud})\n",
    "# dat"
   ]
  },
  {
   "cell_type": "code",
   "execution_count": null,
   "id": "258e0906",
   "metadata": {},
   "outputs": [],
   "source": [
    "\n",
    "thresholds,scores, precisions, recalls, best_threshold = threshold(base_model, X_val, Y_val)\n",
    "threshold_cover_df = pd.DataFrame(zip(thresholds,scores, precisions, recalls),\n",
    "                           columns = [\"threshold\",\"F1 score\", \"precision\", \"recalls\"])\n",
    "threshold_cover_df.to_clipboard()"
   ]
  },
  {
   "cell_type": "code",
   "execution_count": null,
   "id": "c69d872d",
   "metadata": {},
   "outputs": [],
   "source": [
    "list = [i * 0.01 for i in range(0,102)]\n",
    "result  = []\n",
    "for x in list:\n",
    "    predictions = (base_model.predict_proba(X_val)[:,1] >= x).astype(int)\n",
    "    tn, fp, fn, tp = metrics.confusion_matrix(Y_val, predictions).ravel()\n",
    "    result.append({'Threshold': x,'TN':tn,'FP': fp, 'FN': fn ,'TP':tp})\n",
    "result= pd.DataFrame(result, columns = ['Threshold','TN','FP','FN','TP'])"
   ]
  },
  {
   "attachments": {},
   "cell_type": "markdown",
   "id": "a174c83e",
   "metadata": {},
   "source": [
    "# CALCULATE AUPRC 165 VARS "
   ]
  },
  {
   "cell_type": "code",
   "execution_count": 6,
   "id": "465dab1f",
   "metadata": {},
   "outputs": [],
   "source": [
    "df_val = pd.concat([X_val,Y_val],1)"
   ]
  },
  {
   "cell_type": "code",
   "execution_count": 7,
   "id": "f20ee35e",
   "metadata": {},
   "outputs": [
    {
     "data": {
      "text/plain": [
       "(9889, 167)"
      ]
     },
     "execution_count": 7,
     "metadata": {},
     "output_type": "execute_result"
    }
   ],
   "source": [
    "df_val.shape"
   ]
  },
  {
   "cell_type": "code",
   "execution_count": 8,
   "id": "61782db7",
   "metadata": {},
   "outputs": [],
   "source": [
    "df_val_fraud = df_val[df_val['IS_FRAUD']==1]"
   ]
  },
  {
   "cell_type": "code",
   "execution_count": null,
   "id": "0fc568bd",
   "metadata": {},
   "outputs": [],
   "source": [
    "df_val_fraud.shape"
   ]
  },
  {
   "cell_type": "code",
   "execution_count": 9,
   "id": "33b60fd3",
   "metadata": {},
   "outputs": [
    {
     "data": {
      "text/plain": [
       "0.004550510668419456"
      ]
     },
     "execution_count": 9,
     "metadata": {},
     "output_type": "execute_result"
    }
   ],
   "source": [
    "len(df_val_fraud)/len(df_val)"
   ]
  },
  {
   "attachments": {},
   "cell_type": "markdown",
   "id": "a094fdae",
   "metadata": {},
   "source": [
    "## RESAMPLING "
   ]
  },
  {
   "cell_type": "code",
   "execution_count": 10,
   "id": "4c9fc68b",
   "metadata": {},
   "outputs": [],
   "source": [
    "from imblearn.over_sampling import SMOTE\n",
    "## function to find the best n in range\n",
    "def find_n_for_smote(df,n_sample):\n",
    "\n",
    "    \"\"\"\n",
    "    Find the best value of n in 'for i in range(n)' to balance classes using SMOTE.\n",
    "    Parameters:\n",
    "    - df: DataFrame containing the dataset\n",
    "    - n_sample: number of non-fraudulent samples to use for generating synthetic samples\n",
    "    Returns:\n",
    "    - n: the best value of n such that the ratio of fraudulent transactions to total transactions is 0.005\n",
    "    \"\"\"\n",
    "    target_ratio = 0.005\n",
    "    tolerance = 0.0005\n",
    "    n = 0\n",
    "\n",
    "    while True:\n",
    "        n += 1\n",
    "        list_generate_nonfraud = [df[df['IS_FRAUD']==0]]\n",
    "        for i in range(n):\n",
    "            df_check = generate_nonfraud(df=df,n_sample=n_sample)\n",
    "            list_generate_nonfraud.append(df_check)\n",
    "        df_val_nonfraud = pd.concat(list_generate_nonfraud)\n",
    "        total_samples = len(df_val_fraud)+ len(df_val_nonfraud)\n",
    "        fraud_ratio = len(df_val_fraud)/ total_samples\n",
    "        if abs(fraud_ratio / target_ratio - 1) <tolerance:\n",
    "            break\n",
    "    return n\n",
    "\n",
    "## Function to generate non-fraud instances\n",
    "def generate_nonfraud(df=df_val, n_sample = 10):\n",
    "    df_val_non_fraud_sample = df[df['IS_FRAUD']==0].sample(n_sample)\n",
    "    df_val_sample = pd.concat([df_val_fraud,df_val_non_fraud_sample])\n",
    "\n",
    "    # Define the SMOTE over-sampling strategy\n",
    "    oversample = SMOTE(sampling_strategy=1, random_state=42)\n",
    "\n",
    "    # Fit and apply the SMOTE strategy to generate new samples\n",
    "    X_oversampled, y_oversampled = oversample.fit_resample(df_val_sample.loc[:, df_val_sample.columns!='IS_FRAUD'], df_val_sample[\"IS_FRAUD\"])\n",
    "    df_gen = pd.concat([X_oversampled, y_oversampled], 1)\n",
    "    return df_gen[df_gen['IS_FRAUD']==0].reset_index(drop=True)"
   ]
  },
  {
   "cell_type": "code",
   "execution_count": 21,
   "id": "f31187a8",
   "metadata": {},
   "outputs": [],
   "source": [
    "## check the ratio of fraud among total \n",
    "fraud_cases = len(df_val[df_val['IS_FRAUD']==1])\n",
    "non_fraud_cases = len(df_val[df_val['IS_FRAUD']==0])\n",
    "ratio = fraud_cases/(fraud_cases + non_fraud_cases)\n",
    "\n",
    "## Upsampling\n",
    "if ratio >0.005:\n",
    "    n = find_n_for_smote(df=df_val, n_sample = 10)\n",
    "    list_generate_nonfraud = [df_val[df_val['IS_FRAUD']==0]]\n",
    "    for i in range(n):\n",
    "        df_check = generate_nonfraud(df=df_val, n_sample = 10)\n",
    "        list_generate_nonfraud.append(df_check)\n",
    "    df_val_nonfraud = pd.concat(list_generate_nonfraud)\n",
    "    df_val_nonfraud = df_val_nonfraud.drop_duplicates()\n",
    "    df_val_nonfraud.reset_index(drop=True)\n",
    "    data_test = pd.concat([df_val_fraud,df_val_nonfraud])\n",
    "    # print(data_test)\n",
    "else:\n",
    "    ##\n",
    "    rus = RandomUnderSampler(sampling_strategy=0.005, random_state=42)\n",
    "    data_under_sampled, label_undersampled = rus.fit_resample(X_val,Y_val)\n",
    "    df_adj = data_under_sampled\n",
    "    df_adj['IS_FRAUD'] = label_undersampled\n",
    "    data_test = df_adj"
   ]
  },
  {
   "cell_type": "code",
   "execution_count": 22,
   "id": "0350584e",
   "metadata": {},
   "outputs": [],
   "source": [
    "X_adj = data_test.drop('IS_FRAUD',1)\n",
    "Y_adj = data_test[['IS_FRAUD']]\n",
    "from sklearn.metrics import precision_recall_curve, auc\n",
    "y_prob = base_model.predict_proba(X_adj)[:,1]\n",
    "precision,recall, _ = precision_recall_curve(Y_adj,y_prob)\n",
    "auprc = auc(recall,precision)"
   ]
  },
  {
   "cell_type": "code",
   "execution_count": 23,
   "id": "3e607a85",
   "metadata": {},
   "outputs": [
    {
     "data": {
      "image/png": "[encoded data removed]",
      "text/plain": [
       "<Figure size 432x288 with 1 Axes>"
      ]
     },
     "metadata": {
      "needs_background": "light"
     },
     "output_type": "display_data"
    }
   ],
   "source": [
    "### plot AUPRC\n",
    "df = pd.DataFrame({'recall':recall,'precision':precision})\n",
    "ax = df.plot(x = 'recall', y = 'precision', title =f'AUPRC = {auprc:.3f}')\n",
    "ax.set_xlabel('Recall')\n",
    "ax.set_ylabel('Precision')\n",
    "plt.show()"
   ]
  },
  {
   "attachments": {},
   "cell_type": "markdown",
   "id": "0b68f3f8",
   "metadata": {},
   "source": [
    "# FEATURE IMPORTANCE 779 VARS"
   ]
  },
  {
   "cell_type": "code",
   "execution_count": null,
   "id": "19e6ced3",
   "metadata": {},
   "outputs": [],
   "source": [
    "from sklearn.inspection import permutation_importance"
   ]
  },
  {
   "cell_type": "code",
   "execution_count": null,
   "id": "febb32a0",
   "metadata": {},
   "outputs": [],
   "source": [
    "feature_importances = base_model.feature_importances_"
   ]
  },
  {
   "cell_type": "code",
   "execution_count": null,
   "id": "24ea5335",
   "metadata": {},
   "outputs": [],
   "source": [
    "feature_names = X_train.columns\n",
    "sorted_idx = np.argsort(feature_importances)[::-1]\n",
    "sorted_features = [feature_names[i] for i in sorted_idx]\n",
    "\n",
    "fig = plt.figure(figsize=(20,44)) \n",
    "\n",
    "plt.barh(range(len(feature_importances)), feature_importances[sorted_idx])\n",
    "plt.yticks(range(len(feature_importances)),sorted_features)\n",
    "plt.xlabel('feature Importances')\n",
    "plt.ylabel('Feature')\n",
    "plt.show()"
   ]
  },
  {
   "cell_type": "code",
   "execution_count": null,
   "id": "e8bf8913",
   "metadata": {},
   "outputs": [],
   "source": [
    "importances_df  = pd.DataFrame({'feature':feature_names,'importance':feature_importances})\n",
    "importances_df = importances_df.sort_values('importance', ascending=False)\n",
    "importances_df"
   ]
  },
  {
   "attachments": {},
   "cell_type": "markdown",
   "id": "83d662c5",
   "metadata": {},
   "source": [
    "Gain method"
   ]
  },
  {
   "cell_type": "code",
   "execution_count": null,
   "id": "8218d13f",
   "metadata": {},
   "outputs": [],
   "source": [
    "importance_gain = base_model.get_booster().get_score(importance_type = 'gain')"
   ]
  },
  {
   "cell_type": "code",
   "execution_count": null,
   "id": "1dc678fc",
   "metadata": {},
   "outputs": [],
   "source": [
    "importance_gain_df = pd.DataFrame({\n",
    "    'Feature': list(importance_gain.keys()),\n",
    "    'Importance': list(importance_gain.values())\n",
    "})\n",
    "importance_gain_df = importance_gain_df.sort_values(by = 'Importance', ascending= False)"
   ]
  },
  {
   "cell_type": "code",
   "execution_count": null,
   "id": "6d6e29fc",
   "metadata": {},
   "outputs": [],
   "source": [
    "importance_gain_df.to_clipboard()"
   ]
  },
  {
   "cell_type": "code",
   "execution_count": null,
   "id": "fe96831d",
   "metadata": {},
   "outputs": [],
   "source": [
    "importance_total_gain = base_model.get_booster().get_score(importance_type = 'total_gain')\n",
    "importance_total_gain = pd.DataFrame({\n",
    "    'Feature': list(importance_total_gain.keys()),\n",
    "    'Importance': list(importance_total_gain.values())\n",
    "})\n",
    "importance_total_gain = importance_total_gain.sort_values(by = 'Importance', ascending= False)\n",
    "importance_total_gain"
   ]
  },
  {
   "cell_type": "code",
   "execution_count": null,
   "id": "7e944668",
   "metadata": {},
   "outputs": [],
   "source": [
    "importance_total_gain.to_clipboard()"
   ]
  },
  {
   "cell_type": "code",
   "execution_count": null,
   "id": "88067d2b",
   "metadata": {},
   "outputs": [],
   "source": [
    "importance_weight = base_model.get_booster().get_score(importance_type = 'weight')\n",
    "importance_weight = pd.DataFrame({\n",
    "    'Feature': list(importance_weight.keys()),\n",
    "    'Importance': list(importance_weight.values())\n",
    "})\n",
    "importance_weight = importance_weight.sort_values(by = 'Importance', ascending= False)\n",
    "importance_weight"
   ]
  },
  {
   "cell_type": "code",
   "execution_count": null,
   "id": "e7a9cff6",
   "metadata": {},
   "outputs": [],
   "source": [
    "importance_weight.to_clipboard()"
   ]
  },
  {
   "cell_type": "code",
   "execution_count": null,
   "id": "4eabcb78",
   "metadata": {},
   "outputs": [],
   "source": [
    "importance_cover = base_model.get_booster().get_score(importance_type = 'cover')\n",
    "importance_cover = pd.DataFrame({\n",
    "    'Feature': list(importance_cover.keys()),\n",
    "    'Importance': list(importance_cover.values())\n",
    "})\n",
    "importance_cover = importance_cover.sort_values(by = 'Importance', ascending= False)\n",
    "importance_cover"
   ]
  },
  {
   "attachments": {},
   "cell_type": "markdown",
   "id": "f173554b",
   "metadata": {},
   "source": [
    "# Intersection Model"
   ]
  },
  {
   "cell_type": "code",
   "execution_count": null,
   "id": "b0cec92f",
   "metadata": {},
   "outputs": [],
   "source": [
    "importance_gain = base_model.get_booster().get_score(importance_type = 'cover')\n",
    "importance_weight = base_model.get_booster().get_score(importance_type = 'cover')\n",
    "importance_total_gain = base_model.get_booster().get_score(importance_type = 'cover')\n",
    "importance_cover = base_model.get_booster().get_score(importance_type = 'cover')\n",
    "set_gain = set(importance_gain.keys())\n",
    "set_weight = set(importance_weight.keys())\n",
    "set_total_gain = set(importance_total_gain.keys())\n",
    "set_cover = set(importance_cover.keys())"
   ]
  },
  {
   "cell_type": "code",
   "execution_count": null,
   "id": "459a2b6b",
   "metadata": {},
   "outputs": [],
   "source": [
    "intersections = set_gain.intersection(set_weight,set_gain,set_total_gain,set_cover)\n",
    "intersections"
   ]
  },
  {
   "cell_type": "code",
   "execution_count": null,
   "id": "53a2bbe2",
   "metadata": {},
   "outputs": [],
   "source": [
    "mylist = list(intersections)"
   ]
  },
  {
   "cell_type": "code",
   "execution_count": null,
   "id": "c2de42a7",
   "metadata": {},
   "outputs": [],
   "source": [
    "mylist.insert(0,'IS_FRAUD')"
   ]
  },
  {
   "cell_type": "code",
   "execution_count": null,
   "id": "4703984e",
   "metadata": {},
   "outputs": [],
   "source": [
    "intersection = pd.DataFrame(df, columns= mylist)"
   ]
  },
  {
   "cell_type": "code",
   "execution_count": null,
   "id": "045685e2",
   "metadata": {},
   "outputs": [],
   "source": [
    "X = intersection.loc[:,intersection.columns != \"IS_FRAUD\"]\n",
    "y =  intersection[\"IS_FRAUD\"]\n",
    "X_train, X_val, Y_train, Y_val = train_test_split(X, y, stratify=intersection[\"IS_FRAUD\"], test_size=0.25)"
   ]
  },
  {
   "cell_type": "code",
   "execution_count": null,
   "id": "d52ef1f2",
   "metadata": {},
   "outputs": [],
   "source": [
    "intersection_model = xgb.XGBClassifier()\n",
    "intersection_model.fit(X_train,Y_train, eval_set=[(X_val,Y_val)], verbose = 0)"
   ]
  },
  {
   "cell_type": "code",
   "execution_count": null,
   "id": "71522099",
   "metadata": {},
   "outputs": [],
   "source": [
    "thresholds,scores, precisions, recalls, best_threshold = threshold(intersection_model, X_val, Y_val)\n",
    "threshold_intersection_df = pd.DataFrame(zip(thresholds,scores, precisions, recalls),\n",
    "                           columns = [\"threshold\",\"F1 score\", \"precision\", \"recalls\"])\n",
    "threshold_intersection_df"
   ]
  },
  {
   "cell_type": "code",
   "execution_count": null,
   "id": "5829a28d",
   "metadata": {},
   "outputs": [],
   "source": [
    "threshold_intersection_df"
   ]
  },
  {
   "cell_type": "code",
   "execution_count": null,
   "id": "117301f9",
   "metadata": {},
   "outputs": [],
   "source": [
    "threshold_intersection_df.to_clipboard()"
   ]
  },
  {
   "attachments": {},
   "cell_type": "markdown",
   "id": "4a68f0d5",
   "metadata": {},
   "source": [
    "# Model Gain"
   ]
  },
  {
   "cell_type": "code",
   "execution_count": null,
   "id": "3abd968b",
   "metadata": {},
   "outputs": [],
   "source": [
    "importance_gain = base_model.get_booster().get_score(importance_type = 'gain')\n",
    "importance_gain = pd.DataFrame({\n",
    "    'Feature': list(importance_gain.keys()),\n",
    "    'Importance': list(importance_gain.values())\n",
    "})\n",
    "importance_gain = importance_gain.sort_values(by = 'Importance', ascending= False)\n",
    "importance_gain"
   ]
  },
  {
   "cell_type": "code",
   "execution_count": null,
   "id": "35731a52",
   "metadata": {},
   "outputs": [],
   "source": [
    "importance_gain_top100 = importance_gain.head(100)\n",
    "list_gain = importance_gain_top100.Feature.tolist()\n",
    "list_gain.insert(0,'IS_FRAUD')"
   ]
  },
  {
   "cell_type": "code",
   "execution_count": null,
   "id": "c23af7ca",
   "metadata": {},
   "outputs": [],
   "source": [
    "gain_df = pd.DataFrame(df, columns= list_gain)"
   ]
  },
  {
   "cell_type": "code",
   "execution_count": null,
   "id": "bd709843",
   "metadata": {},
   "outputs": [],
   "source": [
    "X = gain_df.loc[:,gain_df.columns != \"IS_FRAUD\"]\n",
    "y =  gain_df[\"IS_FRAUD\"]\n",
    "X_train, X_val, Y_train, Y_val = train_test_split(X, y, stratify=gain_df[\"IS_FRAUD\"], test_size=0.25)\n",
    "gain_model = xgb.XGBClassifier()\n",
    "gain_model.fit(X_train,Y_train, eval_set=[(X_val,Y_val)], verbose = 0)"
   ]
  },
  {
   "cell_type": "code",
   "execution_count": null,
   "id": "4569b49d",
   "metadata": {},
   "outputs": [],
   "source": [
    "thresholds,scores, precisions, recalls, best_threshold = threshold(gain_model, X_val, Y_val)\n",
    "threshold_gain_df = pd.DataFrame(zip(thresholds,scores, precisions, recalls),\n",
    "                           columns = [\"threshold\",\"F1 score\", \"precision\", \"recalls\"])\n",
    "threshold_gain_df"
   ]
  },
  {
   "attachments": {},
   "cell_type": "markdown",
   "id": "5623b07d",
   "metadata": {},
   "source": [
    "## Tuning hyperparameter"
   ]
  },
  {
   "cell_type": "code",
   "execution_count": null,
   "id": "11c74017",
   "metadata": {},
   "outputs": [],
   "source": [
    "paramaters = {\n",
    "    \"nthread\":[4],\n",
    "    \"objective\": [\"binary:logistic\"],\n",
    "    \"learning_rate\":[0.1, 0.01],\n",
    "    \"max_depth\":range(3,6,2),\n",
    "    \"min_child_weight\":range(1,6,2),\n",
    "    \"subsample\":[i/10 for i in range(6,10)],\n",
    "    \"colsample_bytree\":[i/10 for i in range(6,10)],\n",
    "    \"n_estimators\":[10, 15],\n",
    "    \"gamma\":[i/10 for i in range(0,5)],\n",
    "    \"seed\":[1337],\n",
    "    \"min_split_loss\":[0.1],\n",
    "    \"min_child_weight\":range(1,6,2)}\n",
    "\n",
    "gain_model_opt = XGBClassifier()\n",
    "# use_label_encoder=False,objective='binary:logistic',eval_metric=\"aucpr\"\n",
    "gain_model_opt = GridSearchCV(estimator=gain_model_opt,\n",
    "                    param_grid =paramaters,\n",
    "                    cv=10,\n",
    "                    scoring = \"f1\")\n",
    "\n",
    "gain_model_opt.fit(X_train,Y_train, eval_set=[(X_val,Y_val)], verbose = 0)"
   ]
  },
  {
   "cell_type": "code",
   "execution_count": null,
   "id": "0a7bf65b",
   "metadata": {},
   "outputs": [],
   "source": [
    "thresholds,scores, precisions, recalls, best_threshold = threshold(gain_model_opt, X_val, Y_val)\n",
    "threshold_gain_opt = pd.DataFrame(zip(thresholds,scores, precisions, recalls),\n",
    "                           columns = [\"threshold\",\"F1 score\", \"precision\", \"recalls\"])\n",
    "threshold_gain_opt"
   ]
  },
  {
   "cell_type": "code",
   "execution_count": null,
   "id": "50d168f8",
   "metadata": {},
   "outputs": [],
   "source": [
    "threshold_gain_opt.to_clipboard()"
   ]
  },
  {
   "attachments": {},
   "cell_type": "markdown",
   "id": "98304e20",
   "metadata": {},
   "source": [
    "# Model Total Gain"
   ]
  },
  {
   "cell_type": "code",
   "execution_count": null,
   "id": "59cc10d1",
   "metadata": {},
   "outputs": [],
   "source": [
    "importance_total_gain = base_model.get_booster().get_score(importance_type = 'total_gain')\n",
    "importance_total_gain = pd.DataFrame({\n",
    "    'Feature': list(importance_total_gain.keys()),\n",
    "    'Importance': list(importance_total_gain.values())\n",
    "})\n",
    "importance_total_gain = importance_total_gain.sort_values(by = 'Importance', ascending= False)\n",
    "## extract top 100 highest importance score\n",
    "importance_total_gain_top100 = importance_total_gain.head(100)\n",
    "list_total_gain = importance_total_gain_top100.Feature.tolist()\n",
    "list_total_gain.insert(0,'IS_FRAUD')\n",
    "## split data and train model\n",
    "total_gain_df = pd.DataFrame(df, columns= list_gain)\n",
    "X = total_gain_df.loc[:,total_gain_df.columns != \"IS_FRAUD\"]\n",
    "y =  total_gain_df[\"IS_FRAUD\"]\n",
    "X_train, X_val, Y_train, Y_val = train_test_split(X, y, stratify=total_gain_df[\"IS_FRAUD\"], test_size=0.25)\n",
    "total_gain_model = xgb.XGBClassifier()\n",
    "total_gain_model.fit(X_train,Y_train, eval_set=[(X_val,Y_val)], verbose = 0)"
   ]
  },
  {
   "cell_type": "code",
   "execution_count": null,
   "id": "a80523c4",
   "metadata": {},
   "outputs": [],
   "source": [
    "thresholds,scores, precisions, recalls, best_threshold = threshold(total_gain_model, X_val, Y_val)\n",
    "threshold_total_gain_df = pd.DataFrame(zip(thresholds,scores, precisions, recalls),\n",
    "                           columns = [\"threshold\",\"F1 score\", \"precision\", \"recalls\"])\n",
    "threshold_total_gain_df"
   ]
  },
  {
   "cell_type": "code",
   "execution_count": null,
   "id": "b20efcf3",
   "metadata": {},
   "outputs": [],
   "source": [
    "threshold_total_gain_df.to_clipboard()"
   ]
  },
  {
   "attachments": {},
   "cell_type": "markdown",
   "id": "fc697d64",
   "metadata": {},
   "source": [
    "# Model Weight"
   ]
  },
  {
   "cell_type": "code",
   "execution_count": null,
   "id": "0e2d600e",
   "metadata": {},
   "outputs": [],
   "source": [
    "importance_weight = base_model.get_booster().get_score(importance_type = 'weight')\n",
    "importance_weight = pd.DataFrame({\n",
    "    'Feature': list(importance_weight.keys()),\n",
    "    'Importance': list(importance_weight.values())\n",
    "})\n",
    "importance_weight = importance_weight.sort_values(by = 'Importance', ascending= False)\n",
    "## extract top 100 highest importance score\n",
    "importance_weight_top100 = importance_weight.head(100)\n",
    "list_weight = importance_weight_top100.Feature.tolist()\n",
    "list_weight.insert(0,'IS_FRAUD')\n",
    "## split data and train model\n",
    "weight_df = pd.DataFrame(df, columns= list_weight)\n",
    "X = weight_df.loc[:,weight_df.columns != \"IS_FRAUD\"]\n",
    "y =  weight_df[\"IS_FRAUD\"]\n",
    "X_train, X_val, Y_train, Y_val = train_test_split(X, y, stratify=weight_df[\"IS_FRAUD\"], test_size=0.25)\n",
    "weight_model = xgb.XGBClassifier()\n",
    "weight_model.fit(X_train,Y_train, eval_set=[(X_val,Y_val)], verbose = 0)"
   ]
  },
  {
   "cell_type": "code",
   "execution_count": null,
   "id": "1b13af73",
   "metadata": {},
   "outputs": [],
   "source": [
    "thresholds,scores, precisions, recalls, best_threshold = threshold(weight_model, X_val, Y_val)\n",
    "threshold_weight_df = pd.DataFrame(zip(thresholds,scores, precisions, recalls),\n",
    "                           columns = [\"threshold\",\"F1 score\", \"precision\", \"recalls\"])\n",
    "threshold_weight_df"
   ]
  },
  {
   "cell_type": "code",
   "execution_count": null,
   "id": "a5eda9c4",
   "metadata": {},
   "outputs": [],
   "source": [
    "threshold_weight_df.to_clipboard()"
   ]
  },
  {
   "attachments": {},
   "cell_type": "markdown",
   "id": "5f8338d7",
   "metadata": {},
   "source": [
    "# Model Cover"
   ]
  },
  {
   "cell_type": "code",
   "execution_count": null,
   "id": "9bcd3728",
   "metadata": {},
   "outputs": [],
   "source": [
    "importance_cover = base_model.get_booster().get_score(importance_type = 'cover')\n",
    "importance_cover = pd.DataFrame({\n",
    "    'Feature': list(importance_cover.keys()),\n",
    "    'Importance': list(importance_cover.values())\n",
    "})\n",
    "importance_cover = importance_cover.sort_values(by = 'Importance', ascending= False)\n",
    "## extract top 100 highest importance score\n",
    "importance_cover_top100 = importance_cover.head(100)\n",
    "list_cover = importance_cover_top100.Feature.tolist()\n",
    "list_cover.insert(0,'IS_FRAUD')\n",
    "## split data and train model\n",
    "cover_df = pd.DataFrame(df, columns= list_cover)\n",
    "X = cover_df.loc[:,cover_df.columns != \"IS_FRAUD\"]\n",
    "y =  cover_df[\"IS_FRAUD\"]\n",
    "X_train, X_val, Y_train, Y_val = train_test_split(X, y, stratify=cover_df[\"IS_FRAUD\"], test_size=0.25)\n",
    "cover_model = xgb.XGBClassifier()\n",
    "cover_model.fit(X_train,Y_train, eval_set=[(X_val,Y_val)], verbose = 0)"
   ]
  },
  {
   "cell_type": "code",
   "execution_count": null,
   "id": "692e073f",
   "metadata": {},
   "outputs": [],
   "source": [
    "thresholds,scores, precisions, recalls, best_threshold = threshold(cover_model, X_val, Y_val)\n",
    "threshold_cover_df = pd.DataFrame(zip(thresholds,scores, precisions, recalls),\n",
    "                           columns = [\"threshold\",\"F1 score\", \"precision\", \"recalls\"])\n",
    "threshold_cover_df.to_clipboard()"
   ]
  },
  {
   "cell_type": "code",
   "execution_count": null,
   "id": "45ffe251",
   "metadata": {},
   "outputs": [],
   "source": [
    "# bestgrid_model = model.best_estimator_\n",
    "# bestgrid_model_result = cross_validation(bestgrid_model, X, y, 10)\n",
    "# print(\"Precision:\" ,bestgrid_model_result[\"Mean Validation Precision\"])\n",
    "# print(\"Recall:\" ,bestgrid_model_result[\"Mean Validation Recall\"])\n",
    "# print(\"f1 score:\" ,bestgrid_model_result[\"Mean Validation F1 score\"])"
   ]
  },
  {
   "cell_type": "code",
   "execution_count": null,
   "id": "d513d53f",
   "metadata": {},
   "outputs": [],
   "source": [
    "thresholds,scores, precisions, recalls, best_threshold = threshold(base_model, X_val, Y_val)\n",
    "threshold_df = pd.DataFrame(zip(thresholds,scores, precisions, recalls),\n",
    "                           columns = [\"threshold\",\"F1 score\", \"precision\", \"recalls\"])\n",
    "threshold_df"
   ]
  },
  {
   "cell_type": "code",
   "execution_count": null,
   "id": "a2e4c001",
   "metadata": {},
   "outputs": [],
   "source": [
    "list = [i * 0.05 for i in range(0,20)]\n",
    "result  = []\n",
    "for x in list:\n",
    "    predictions = (base_model.predict_proba(X_val)[:,1] >= x).astype(int)\n",
    "    tn, fp, fn, tp = metrics.confusion_matrix(Y_val, predictions).ravel()\n",
    "    result.append({'Threshold': x,'TN':tn,'FP': fp, 'FN': fn ,'TP':tp})\n",
    "result_df = pd.DataFrame(result, columns = ['Threshold','TN','FP','FN','TP'])"
   ]
  },
  {
   "cell_type": "code",
   "execution_count": null,
   "id": "5034f1eb",
   "metadata": {},
   "outputs": [],
   "source": [
    "result_df.rename(columns={'Threshold':'threshold'}, inplace=True)\n",
    "model_alert_result = pd.merge(threshold_df, result_df, on = 'threshold')"
   ]
  },
  {
   "cell_type": "code",
   "execution_count": null,
   "id": "65bb0b10",
   "metadata": {},
   "outputs": [],
   "source": [
    "model_alert_result"
   ]
  },
  {
   "attachments": {},
   "cell_type": "markdown",
   "id": "c8c8218f",
   "metadata": {},
   "source": [
    "## NGƯỠNG CẢNH BÁO MODEL"
   ]
  },
  {
   "cell_type": "code",
   "execution_count": null,
   "id": "f3267448",
   "metadata": {},
   "outputs": [],
   "source": [
    "model_alert_result['Số lượng cảnh báo bộ dữ liệu lấy mẫu'] = model_alert_result['TP']+model_alert_result['FP']"
   ]
  },
  {
   "cell_type": "code",
   "execution_count": null,
   "id": "24aeb3f2",
   "metadata": {},
   "outputs": [],
   "source": [
    "model_alert_result"
   ]
  },
  {
   "cell_type": "code",
   "execution_count": null,
   "id": "701f76c2",
   "metadata": {},
   "outputs": [],
   "source": [
    "model_alert_result['Tỷ lệ thẻ lấy mẫu / toàn hàng'] = 0.5\n",
    "model_alert_result['Số lượng cảnh báo toàn hàng ước tính'] = model_alert_result['Số lượng cảnh báo bộ dữ liệu lấy mẫu']/0.5"
   ]
  },
  {
   "cell_type": "code",
   "execution_count": null,
   "id": "2630827e",
   "metadata": {},
   "outputs": [],
   "source": [
    "model_alert_result"
   ]
  },
  {
   "cell_type": "code",
   "execution_count": null,
   "id": "65c77ff4",
   "metadata": {},
   "outputs": [],
   "source": [
    "model_alert_result.to_csv(r'C:\\Users\\admin\\Documents\\MB\\Card\\Credit Card Model Result\\model_metrics_201var.csv')"
   ]
  },
  {
   "attachments": {},
   "cell_type": "markdown",
   "id": "b0f3a721",
   "metadata": {},
   "source": [
    "## ALTER 20 VARIABLES WITH HIGHEST IMPORTANCE"
   ]
  },
  {
   "cell_type": "code",
   "execution_count": null,
   "id": "5bfe448d",
   "metadata": {},
   "outputs": [],
   "source": [
    "df_20_vars = importances_df_201var.head(20)"
   ]
  },
  {
   "cell_type": "code",
   "execution_count": null,
   "id": "8fd16d62",
   "metadata": {},
   "outputs": [],
   "source": [
    "df_20_vars"
   ]
  },
  {
   "cell_type": "code",
   "execution_count": null,
   "id": "0b36834e",
   "metadata": {},
   "outputs": [],
   "source": [
    "df_20_vars = df_201var[['REDUCING_AMOUNT_TRANS_CNT_24H',\n",
    " 'MERCHANT_TRANS_AMOUNT_1H',\n",
    " 'TRANS_CNT_24H',\n",
    " 'AGE_GREATER_3M_IND',\n",
    " 'SOURCE_CONTRACT',\n",
    " 'CURRENT_AGE',\n",
    " 'FAIL_PERC_6H',\n",
    " 'CARD_AGE',\n",
    " 'FAIL_CNT_24H',\n",
    " 'TRANS_SPD',\n",
    " 'FAIL_PERC_24H',\n",
    " 'EXCD_FREQ_LIMIT_IND',\n",
    " 'EXCD_AMNT_LIMIT_PERC_30T',\n",
    " 'MERCHANT_TRANS_AMOUNT_24H',\n",
    " 'MERCHANT_TRANS_AMOUNT_3H',\n",
    " 'HIGH_VALUE_IND_3H',\n",
    " 'TRANS_AMOUNT_OVER_MAX_30D',\n",
    " 'TRANS_AMOUNT_A_DAY_IND',\n",
    " 'REDUCING_AMOUNT_TRANS_PERC_3H',\n",
    " 'TRANS_SPD_MEAN_5','IS_FRAUD']]"
   ]
  },
  {
   "cell_type": "code",
   "execution_count": null,
   "id": "1e478542",
   "metadata": {},
   "outputs": [],
   "source": [
    "df_20_vars.to_csv(r'C:\\Users\\admin\\Documents\\MB\\Card\\Credit Card Model Result\\df_20_vars.csv')"
   ]
  },
  {
   "cell_type": "code",
   "execution_count": null,
   "id": "0eb090dc",
   "metadata": {},
   "outputs": [],
   "source": [
    "from sklearn.model_selection import train_test_split\n",
    "X = df_20_vars.loc[:,df_20_vars.columns != \"IS_FRAUD\"]\n",
    "y =  df_20_vars[\"IS_FRAUD\"]\n",
    "X_train, X_val, Y_train, Y_val = train_test_split(X, y, stratify=df_20_vars[\"IS_FRAUD\"], random_state=1412)"
   ]
  },
  {
   "cell_type": "code",
   "execution_count": null,
   "id": "b3643bff",
   "metadata": {},
   "outputs": [],
   "source": [
    "X_val"
   ]
  },
  {
   "cell_type": "code",
   "execution_count": null,
   "id": "1ab81dd5",
   "metadata": {},
   "outputs": [],
   "source": [
    "paramaters = {\n",
    "    \"nthread\":[4],\n",
    "    \"objective\": [\"binary:logistic\"],\n",
    "    \"learning_rate\":[0.1, 0.01],\n",
    "    \"max_depth\":range(3,6,2),\n",
    "    \"min_child_weight\":range(1,6,2),\n",
    "    \"subsample\":[i/10 for i in range(6,10)],\n",
    "    \"colsample_bytree\":[i/10 for i in range(6,10)],\n",
    "    \"n_estimators\":[10, 15],\n",
    "    \"gamma\":[i/10 for i in range(0,5)],\n",
    "    \"seed\":[1337],\n",
    "    \"min_split_loss\":[0.1],\n",
    "    \"min_child_weight\":range(1,6,2)}\n",
    "\n",
    "base_model_20_vars = XGBClassifier(use_label_encoder=False,objective='binary:logistic',eval_metric=\"aucpr\")\n",
    "model = GridSearchCV(estimator=base_model_20_vars,\n",
    "                    param_grid =paramaters,\n",
    "                    cv=10,\n",
    "                    scoring = \"f1\")\n",
    "\n",
    "model.fit(X_train,Y_train, eval_set=[(X_val,Y_val)], verbose = 0)"
   ]
  },
  {
   "attachments": {},
   "cell_type": "markdown",
   "id": "bbac5ff2",
   "metadata": {},
   "source": [
    "### 20-VAR MODEL IMPORTANCE"
   ]
  },
  {
   "cell_type": "code",
   "execution_count": null,
   "id": "a2fab88c",
   "metadata": {},
   "outputs": [],
   "source": [
    "best_dt = model.best_estimator_"
   ]
  },
  {
   "cell_type": "code",
   "execution_count": null,
   "id": "9ed53ca7",
   "metadata": {},
   "outputs": [],
   "source": [
    "importances = best_dt.feature_importances_"
   ]
  },
  {
   "cell_type": "code",
   "execution_count": null,
   "id": "dd156022",
   "metadata": {},
   "outputs": [],
   "source": [
    "feature_names = X_train.columns\n",
    "sorted_idx = np.argsort(importances)[::-1]\n",
    "sorted_features = [feature_names[i] for i in sorted_idx]\n",
    "\n",
    "fig = plt.figure(figsize=(20,44)) \n",
    "\n",
    "plt.barh(range(len(importances)), feature_importances[sorted_idx])\n",
    "plt.yticks(range(len(importances)),sorted_features)\n",
    "plt.xlabel('feature Importances')\n",
    "plt.ylabel('Feature')\n",
    "plt.show()"
   ]
  },
  {
   "cell_type": "code",
   "execution_count": null,
   "id": "e2229966",
   "metadata": {},
   "outputs": [],
   "source": [
    "importances_df_20var  = pd.DataFrame({'feature':feature_names,'importance':importances})\n",
    "importances_df_20var = importances_df_20var.sort_values('importance', ascending=False)\n",
    "importances_df_20var"
   ]
  },
  {
   "cell_type": "code",
   "execution_count": null,
   "id": "d152befe",
   "metadata": {},
   "outputs": [],
   "source": [
    "importances_df_20var.to_csv(r'C:\\Users\\admin\\Documents\\MB\\Card\\Credit Card Model Result\\importance_model_20var.csv')"
   ]
  },
  {
   "attachments": {},
   "cell_type": "markdown",
   "id": "0a8ca812",
   "metadata": {},
   "source": [
    "### Model 20 var Metrics"
   ]
  },
  {
   "cell_type": "code",
   "execution_count": null,
   "id": "a2b94925",
   "metadata": {},
   "outputs": [],
   "source": [
    "thresholds,scores, precisions, recalls, best_threshold = threshold(model, X_val, Y_val)\n",
    "threshold_df_20_var = pd.DataFrame(zip(thresholds,scores, precisions, recalls),\n",
    "                           columns = [\"threshold\",\"F1 scores\", \"precision\", \"recalls\"])\n",
    "threshold_df_20_var"
   ]
  },
  {
   "cell_type": "code",
   "execution_count": null,
   "id": "95f6a464",
   "metadata": {},
   "outputs": [],
   "source": [
    "list = [i * 0.05 for i in range(0,21)]\n",
    "result  = []\n",
    "for x in list:\n",
    "    predictions = (model.predict_proba(X_val)[:,1] >= x).astype(int)\n",
    "    tn, fp, fn, tp = metrics.confusion_matrix(Y_val, predictions).ravel()\n",
    "    result.append({'Threshold': x,'TN':tn,'FP': fp, 'FN': fn ,'TP':tp})\n",
    "result_20var = pd.DataFrame(result, columns = ['Threshold','TN','FP','FN','TP'])"
   ]
  },
  {
   "attachments": {},
   "cell_type": "markdown",
   "id": "542856de",
   "metadata": {},
   "source": [
    "### NGƯỠNG CẢNH BÁO MODEL 20 BIẾN\n"
   ]
  },
  {
   "cell_type": "code",
   "execution_count": null,
   "id": "b353f7b9",
   "metadata": {},
   "outputs": [],
   "source": [
    "result_20var.rename(columns={'Threshold':'threshold'}, inplace=True)\n",
    "model_alert_result = pd.merge(threshold_df_20_var, result_20var, on = 'threshold')"
   ]
  },
  {
   "cell_type": "code",
   "execution_count": null,
   "id": "4e5fbeaa",
   "metadata": {},
   "outputs": [],
   "source": [
    "model_alert_result"
   ]
  },
  {
   "cell_type": "code",
   "execution_count": null,
   "id": "1174ddfc",
   "metadata": {},
   "outputs": [],
   "source": [
    "model_alert_result['Số lượng cảnh báo bộ dữ liệu lấy mẫu'] = model_alert_result['TP']+model_alert_result['FP']"
   ]
  },
  {
   "cell_type": "code",
   "execution_count": null,
   "id": "9e9daccc",
   "metadata": {},
   "outputs": [],
   "source": [
    "model_alert_result['Tỷ lệ thẻ lấy mẫu / toàn hàng'] = 0.5\n",
    "model_alert_result['Số lượng cảnh báo toàn hàng ước tính'] = model_alert_result['Số lượng cảnh báo bộ dữ liệu lấy mẫu']/0.5"
   ]
  },
  {
   "cell_type": "code",
   "execution_count": null,
   "id": "99514263",
   "metadata": {},
   "outputs": [],
   "source": [
    "model_alert_result.to_excel(r'C:\\Users\\admin\\Documents\\MB\\Card\\Credit Card Model Result\\model_alert_result_20var.xlsx')"
   ]
  }
 ],
 "metadata": {
  "kernelspec": {
   "display_name": "myclone",
   "language": "python",
   "name": "python3"
  },
  "language_info": {
   "codemirror_mode": {
    "name": "ipython",
    "version": 3
   },
   "file_extension": ".py",
   "mimetype": "text/x-python",
   "name": "python",
   "nbconvert_exporter": "python",
   "pygments_lexer": "ipython3",
   "version": "3.8.8"
  },
  "vscode": {
   "interpreter": {
    "hash": "ca28f73b0d555f632b533a0b02eb249af129634e21835113d09d8417da31fa8e"
   }
  }
 },
 "nbformat": 4,
 "nbformat_minor": 5
}
